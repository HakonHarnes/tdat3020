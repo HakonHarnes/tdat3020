{
 "cells": [
  {
   "cell_type": "markdown",
   "metadata": {},
   "source": [
    "# Øving K20\n",
    "## Oppgave 1 \n",
    "**1) Finn ordenen til alle elementene i $\\mathbb{Z}_{11}^*$**"
   ]
  },
  {
   "cell_type": "code",
   "execution_count": 39,
   "metadata": {},
   "outputs": [
    {
     "name": "stdout",
     "output_type": "stream",
     "text": [
      "1  -  1\n",
      "2  -  10\n",
      "3  -  5\n",
      "4  -  5\n",
      "5  -  5\n",
      "6  -  10\n",
      "7  -  10\n",
      "8  -  10\n",
      "9  -  5\n",
      "10 -  2\n"
     ]
    }
   ],
   "source": [
    "n = 11\n",
    "\n",
    "for i in range(1, n+1): \n",
    "    for j in range(1, n+1): \n",
    "        if i**j % n == 1: \n",
    "            print(f'{i:<2} -  {j}')\n",
    "            break \n"
   ]
  },
  {
   "cell_type": "markdown",
   "metadata": {},
   "source": [
    "**2) Fyll inn tabellen med alle logaritmene log<sub>α</sub> β i $\\mathbb{Z}_{11}^*$. Skriv kryss der det\n",
    "ikke er definert.**"
   ]
  },
  {
   "cell_type": "code",
   "execution_count": 52,
   "metadata": {},
   "outputs": [],
   "source": [
    "n = 11\n",
    "tab = []\n",
    "\n",
    "for a in range(2, n):\n",
    "    log_ab = ['x'] * (n-1)\n",
    "    \n",
    "    for b in range(1, n):\n",
    "        log_ab[a**b % n - 1] = b\n",
    "    \n",
    "    tab.append(log_ab)"
   ]
  },
  {
   "cell_type": "code",
   "execution_count": null,
   "metadata": {},
   "outputs": [],
   "source": []
  }
 ],
 "metadata": {
  "kernelspec": {
   "display_name": "Python 3",
   "language": "python",
   "name": "python3"
  },
  "language_info": {
   "codemirror_mode": {
    "name": "ipython",
    "version": 3
   },
   "file_extension": ".py",
   "mimetype": "text/x-python",
   "name": "python",
   "nbconvert_exporter": "python",
   "pygments_lexer": "ipython3",
   "version": "3.7.3"
  }
 },
 "nbformat": 4,
 "nbformat_minor": 4
}
