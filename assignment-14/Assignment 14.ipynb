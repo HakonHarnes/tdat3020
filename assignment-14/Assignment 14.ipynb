{
 "cells": [
  {
   "cell_type": "markdown",
   "metadata": {},
   "source": [
    "# Øving K14 "
   ]
  },
  {
   "cell_type": "markdown",
   "metadata": {},
   "source": [
    "## Oppgave 1\n",
    "Regn ut 232 + 22 · 77 − 18^2 (mod 8)"
   ]
  },
  {
   "cell_type": "code",
   "execution_count": 159,
   "metadata": {},
   "outputs": [
    {
     "data": {
      "text/plain": [
       "2"
      ]
     },
     "execution_count": 159,
     "metadata": {},
     "output_type": "execute_result"
    }
   ],
   "source": [
    "(232 + 22 * 77 - 18^2) % 12"
   ]
  },
  {
   "cell_type": "code",
   "execution_count": 160,
   "metadata": {},
   "outputs": [
    {
     "name": "stdout",
     "output_type": "stream",
     "text": [
      "26 % 12 ≡ 2\n"
     ]
    }
   ],
   "source": [
    "n = 232 % 8 + (22 % 8) * (77 % 8) - (18 % 12)^2\n",
    "print(f'{n} % 12 ≡ {n % 12}')"
   ]
  },
  {
   "cell_type": "markdown",
   "metadata": {},
   "source": [
    "## Oppgave 2\n",
    "**a) Skriv ut multiplikasjonstbellen Z<sub>12</sub>, uten å ta med 0 (mod 12)**"
   ]
  },
  {
   "cell_type": "code",
   "execution_count": 161,
   "metadata": {},
   "outputs": [
    {
     "name": "stdout",
     "output_type": "stream",
     "text": [
      "[[ 1  2  3  4  5  6  7  8  9 10 11]\n",
      " [ 2  4  6  8 10  0  2  4  6  8 10]\n",
      " [ 3  6  9  0  3  6  9  0  3  6  9]\n",
      " [ 4  8  0  4  8  0  4  8  0  4  8]\n",
      " [ 5 10  3  8  1  6 11  4  9  2  7]\n",
      " [ 6  0  6  0  6  0  6  0  6  0  6]\n",
      " [ 7  2  9  4 11  6  1  8  3 10  5]\n",
      " [ 8  4  0  8  4  0  8  4  0  8  4]\n",
      " [ 9  6  3  0  9  6  3  0  9  6  3]\n",
      " [10  8  6  4  2  0 10  8  6  4  2]\n",
      " [11 10  9  8  7  6  5  4  3  2  1]]\n"
     ]
    }
   ],
   "source": [
    "import numpy as np\n",
    "\n",
    "n = 12 \n",
    "A = np.zeros((n-1, n-1), dtype=int)\n",
    "\n",
    "for i in range(n - 1):\n",
    "    for j in range(n - 1):\n",
    "        A[i][j] = ((i + 1) * (j + 1)) % 12\n",
    "        \n",
    "print(A)"
   ]
  },
  {
   "cell_type": "markdown",
   "metadata": {},
   "source": [
    "**b) Hvilke tall har multiplikative invers modulo 12?**"
   ]
  },
  {
   "cell_type": "code",
   "execution_count": 162,
   "metadata": {},
   "outputs": [
    {
     "name": "stdout",
     "output_type": "stream",
     "text": [
      "1\n",
      "5\n",
      "7\n",
      "11\n"
     ]
    }
   ],
   "source": [
    "for i in np.where(A == 1)[0]: print(i+1)"
   ]
  },
  {
   "cell_type": "markdown",
   "metadata": {},
   "source": [
    "**c) Forklar hvorfor en ikke kan ha 0 og 1 i samme rad eller kolonne i tabellen, eller, sagt på en annen måte, hvis a ikke har multiplikativ invers, så finnes det en b som ikke er null mod 12, slik at ab ≡ 0 (mod 12)**\n",
    "\n",
    "Ser på de to utfallene isolert sett: \n",
    "\n",
    "1. Verdien 1 forekommer i rad/kolonne $a$. Da er $gcd(a, n) = 1$. Tallet $a$ er relativt primisk med $n$. \n",
    "2. Verdien 0 forekommer i rad/kolonne $a$. Da er $gcd(a, n) > 1$. Tallet $a$ er ikke relativt primisk med $n$. \n",
    "\n",
    "Dette er to gjensidig utelukkende utfall. Enten er a relativt primisk med $n$, eller så er $a$ ikke relativt primisk med $n$. Det kan derfor ikke forekomme både et 0 og et 1 tall i samme rad/kolonne. "
   ]
  },
  {
   "cell_type": "markdown",
   "metadata": {},
   "source": [
    "## Oppgave 3"
   ]
  },
  {
   "cell_type": "code",
   "execution_count": 163,
   "metadata": {},
   "outputs": [
    {
     "name": "stdout",
     "output_type": "stream",
     "text": [
      "[[ 2 -1]\n",
      " [ 5  8]], det = 21\n"
     ]
    }
   ],
   "source": [
    "A = np.array([[2, -1], [5, 8]]); \n",
    "detA = int(np.linalg.det(A))\n",
    "\n",
    "print(f'{A}, det = {detA}')"
   ]
  },
  {
   "cell_type": "markdown",
   "metadata": {},
   "source": [
    "**a) Finn den inverse matrisen til A over Z<sub>10</sub>**  "
   ]
  },
  {
   "cell_type": "code",
   "execution_count": 164,
   "metadata": {},
   "outputs": [
    {
     "name": "stdout",
     "output_type": "stream",
     "text": [
      "[[8. 1.]\n",
      " [5. 2.]]\n"
     ]
    }
   ],
   "source": [
    "if np.gcd(detA, 10) == 1: \n",
    "    print((np.linalg.inv(A) * detA) % 10)\n",
    "else: \n",
    "    print(f'gcd({detA}, 10) = {np.gcd(detA, 10)} ≠ 1 => ingen invers')"
   ]
  },
  {
   "cell_type": "markdown",
   "metadata": {},
   "source": [
    "**b) Finn den inverse matrisen til A over Z<sub>9</sub>**"
   ]
  },
  {
   "cell_type": "code",
   "execution_count": 165,
   "metadata": {},
   "outputs": [
    {
     "name": "stdout",
     "output_type": "stream",
     "text": [
      "gcd(21, 9) = 3 ≠ 1 => ingen invers\n"
     ]
    }
   ],
   "source": [
    "if np.gcd(detA, 9) == 1: \n",
    "    print((np.linalg.inv(A) * detA) % 9)\n",
    "else: \n",
    "    print(f'gcd({detA}, 9) = {np.gcd(detA, 9)} ≠ 1 => ingen invers')"
   ]
  },
  {
   "cell_type": "markdown",
   "metadata": {},
   "source": [
    "## Oppgave 4 \n",
    "**a) Hvor mange forskjellige nøkler kan et (enkelt) substitusjonschiffer ha når vi opererer med et alfabet med 29 tegn?**  \n",
    "\n",
    "Da kan man ha $29! \\approx 10^{30}$ forskjellige nøkler\n",
    "\n",
    "**b) Et slikt substitusjonschiffer er ikke særlig trygt. Hvilke enkel grep kan Alice og Bob bruke for å gjøre det vanskeligere for Eva å dekode meldingene?**  \n",
    "\n",
    "- Unnlate å bruke mellomrom. Da er det vanskeligere å se oppbyggingen i meldingen. Kan ikke se antall ord og lengde på ordene. \n",
    "- Unngå å bruke gjentagene faser. (ref. Enigma m/ 'Heil Hitler', 'Værrapport')\n",
    "\n",
    "**c) Hvis vi lager en substitusjonchiffer for blokker med n tegn, hvor mange nøkler finnes da?**\n",
    "\n",
    "Da finnes det $n!$ forskjellige nøkler\n"
   ]
  },
  {
   "cell_type": "markdown",
   "metadata": {},
   "source": [
    "## Oppgave 5\n",
    "Du har snappet om følgende melding:\n",
    "\n",
    "*YÆVFB VBVFR ÅVBV*\n",
    "\n",
    "Du vet at Alice og Bob bruker et k-skift-chiffer. Finn krypteringsnøkkelen og klarteksten! (Husk at mellomrom ikke er tatt med i teksten.)"
   ]
  },
  {
   "cell_type": "code",
   "execution_count": 166,
   "metadata": {},
   "outputs": [],
   "source": [
    "ALPHABET = 'ABCDEFGHIJKLMNOPQRSTUVWXYZÆØÅ'\n",
    "\n",
    "def shift(p, K): \n",
    "    c = ''\n",
    "    \n",
    "    for char in p: \n",
    "        index = (ALPHABET.index(char) + K) % len(ALPHABET)\n",
    "        c += ALPHABET[index]\n",
    "    \n",
    "    return c "
   ]
  },
  {
   "cell_type": "code",
   "execution_count": 167,
   "metadata": {},
   "outputs": [
    {
     "name": "stdout",
     "output_type": "stream",
     "text": [
      "0\tyævfbvbvfråvbv\n",
      "1\tzøwgcwcwgsawcw\n",
      "2\tæåxhdxdxhtbxdx\n",
      "3\tøayieyeyiucyey\n",
      "4\tåbzjfzfzjvdzfz\n",
      "5\tacækgægækweægæ\n",
      "6\tbdølhøhølxføhø\n",
      "7\tceåmiåiåmygåiå\n",
      "8\tdfanjajanzhaja\n",
      "9\tegbokbkboæibkb\n",
      "10\tfhcplclcpøjclc\n",
      "11\tgidqmdmdqåkdmd\n",
      "12\thjerneneralene\n",
      "13\tikfsofofsbmfof\n",
      "14\tjlgtpgpgtcngpg\n",
      "15\tkmhuqhqhudohqh\n",
      "16\tlnivririvepiri\n",
      "17\tmojwsjsjwfqjsj\n",
      "18\tnpkxtktkxgrktk\n",
      "19\toqlyululyhslul\n",
      "20\tprmzvmvmzitmvm\n",
      "21\tqsnæwnwnæjunwn\n",
      "22\trtoøxoxoøkvoxo\n",
      "23\tsupåypypålwpyp\n",
      "24\ttvqazqzqamxqzq\n",
      "25\tuwrbærærbnyrær\n",
      "26\tvxscøsøscozsøs\n",
      "27\twytdåtåtdpætåt\n",
      "28\txzueauaueqøuau\n"
     ]
    }
   ],
   "source": [
    "for k in range(len(ALPHABET)):\n",
    "    shifted = shift('YÆVFBVBVFRÅVBV', k)\n",
    "    print(f'{k}\\t{shifted.lower()}')"
   ]
  },
  {
   "cell_type": "markdown",
   "metadata": {},
   "source": [
    "Nøkkel 12 gir dekryptert streng \"Hjernen er alene\""
   ]
  },
  {
   "cell_type": "markdown",
   "metadata": {},
   "source": [
    "## Oppgave 6\n",
    "**Definer et blokk-chiffer med blokklengde b, og et alfabete med N tegn, som bruker samme prinsipp som skift-chifret.  \n",
    "a) Skriv opp en formell definisjon.**"
   ]
  },
  {
   "cell_type": "markdown",
   "metadata": {},
   "source": [
    "La $P = C = K = \\{x \\mid  0 ≤ x < N \\}$, hvor $N$ er antall tegn. La $b$ være blokklengden.\n",
    "\n",
    "$x = x_1x_2 \\ldots x_b$\n",
    "\n",
    "$e_k (x) = (x + k)(mod N)$  \n",
    "$d_k (y) = (x - k)(mod N)$"
   ]
  },
  {
   "cell_type": "markdown",
   "metadata": {},
   "source": [
    "**b) Hvor mange forskjellige nøkler har chifret?**"
   ]
  },
  {
   "cell_type": "markdown",
   "metadata": {},
   "source": [
    "Det vil finnes $N$ forskjellige nøkler. "
   ]
  },
  {
   "cell_type": "markdown",
   "metadata": {},
   "source": [
    "## Oppgave 7\n",
    "**a) Krypter teksten 'Nå er det snart helg' med nøkkelordet 'torsk'**"
   ]
  },
  {
   "cell_type": "code",
   "execution_count": 169,
   "metadata": {},
   "outputs": [],
   "source": [
    "ALPHABET = 'ABCDEFGHIJKLMNOPQRSTUVWXYZÆØÅ'\n",
    "\n",
    "def encryptCharacter(char, keyChar):\n",
    "    charIndex = ALPHABET.index(char)\n",
    "    keyIndex  = ALPHABET.index(keyChar)\n",
    "    \n",
    "    return shift(ALPHABET, keyIndex)[charIndex]\n",
    "    \n",
    "def encrypt(p, key):\n",
    "    c = ''\n",
    "    \n",
    "    p = p.replace(' ', '').upper()\n",
    "    key = key.replace(' ', '').upper()\n",
    "    \n",
    "    for i in range(len(p)): \n",
    "        c += encryptCharacter(p[i], key[i % len(key)])\n",
    "    \n",
    "    return c.upper()"
   ]
  },
  {
   "cell_type": "code",
   "execution_count": 170,
   "metadata": {},
   "outputs": [
    {
     "name": "stdout",
     "output_type": "stream",
     "text": [
      "p = Nå er det snart helg, K: torsk => c = DNVGNXEGCKHEYWVZ\n"
     ]
    }
   ],
   "source": [
    "p = 'Nå er det snart helg'\n",
    "K = 'torsk'\n",
    "c = encrypt(p, K)\n",
    "\n",
    "print(f'p = {p}, K: {K} => c = {c}')"
   ]
  },
  {
   "cell_type": "markdown",
   "metadata": {},
   "source": [
    "**b) Dekrypter 'QZQOBVCAFFKSDC' med nøkkelordet 'brus'**"
   ]
  },
  {
   "cell_type": "code",
   "execution_count": 171,
   "metadata": {},
   "outputs": [],
   "source": [
    "ALPHABET = 'ABCDEFGHIJKLMNOPQRSTUVWXYZÆØÅ'\n",
    "\n",
    "def decryptCharacter(char, keyChar):\n",
    "    charIndex = ALPHABET.index(char)\n",
    "    keyIndex  = ALPHABET.index(keyChar)\n",
    "    \n",
    "    return shift(ALPHABET, -keyIndex)[charIndex]\n",
    "    \n",
    "def decrypt(c, key):\n",
    "    p = ''\n",
    "    \n",
    "    c = c.replace(' ', '').upper()\n",
    "    key = key.replace(' ', '').upper()\n",
    "    \n",
    "    for i in range(len(c)): \n",
    "        p += decryptCharacter(c[i], key[i % len(key)])\n",
    "    \n",
    "    return p.lower()"
   ]
  },
  {
   "cell_type": "code",
   "execution_count": 172,
   "metadata": {},
   "outputs": [
    {
     "name": "stdout",
     "output_type": "stream",
     "text": [
      "c = QZQOBVCAFFKSDC, K = brus => p = pizzaellertaco\n"
     ]
    }
   ],
   "source": [
    "c = 'QZQOBVCAFFKSDC'\n",
    "K = 'brus'\n",
    "p = decrypt(c, K)\n",
    "\n",
    "print(f'c = {c}, K = {K} => p = {p}')"
   ]
  },
  {
   "cell_type": "markdown",
   "metadata": {},
   "source": [
    "**c) Hvis m = 5 (se definisjonen), hvor mange nøkler finnes?**\n",
    "\n",
    "Har $N = 29$ tegn i alfabetet. Da blir antall nøkler $29^5$\n"
   ]
  },
  {
   "cell_type": "markdown",
   "metadata": {},
   "source": [
    "## Oppgave 8\n",
    "**a) Finn K<sup>-1</sup> over Z<sub>29</sub>**"
   ]
  },
  {
   "cell_type": "code",
   "execution_count": 173,
   "metadata": {},
   "outputs": [
    {
     "name": "stdout",
     "output_type": "stream",
     "text": [
      "[[ 7. 21.]\n",
      " [26. 11.]]\n"
     ]
    }
   ],
   "source": [
    "K = np.array([[11, 8], [3, 7]])\n",
    "detK = np.linalg.det(K)\n",
    "invK = (np.linalg.inv(K) * detK) % len(ALPHABET)\n",
    "\n",
    "print(invK)"
   ]
  },
  {
   "cell_type": "markdown",
   "metadata": {},
   "source": [
    "**b) Krypter teksten “prim” med K som nøkkel i Hill-chifret.**"
   ]
  },
  {
   "cell_type": "code",
   "execution_count": 174,
   "metadata": {},
   "outputs": [],
   "source": [
    "# Converts string to matrix \n",
    "def stringToMatrix(string):\n",
    "    matrix = []\n",
    "    \n",
    "    for char in string:\n",
    "        matrix.append(ALPHABET.index(char))\n",
    "    \n",
    "    return np.array([ matrix ])\n",
    "\n",
    "# Converts matrix to string \n",
    "def matrixToString(matrix):\n",
    "    string = ''\n",
    "    \n",
    "    for num in matrix[0]: \n",
    "        string += ALPHABET[int(num)]\n",
    "        \n",
    "    return string"
   ]
  },
  {
   "cell_type": "code",
   "execution_count": 175,
   "metadata": {},
   "outputs": [],
   "source": [
    "ALPHABET = 'ABCDEFGHIJKLMNOPQRSTUVWXYZÆØÅ'\n",
    "\n",
    "def encrypt(p, K):\n",
    "    c = ''\n",
    "    \n",
    "    # Splits message into blocks of two \n",
    "    p = [p.upper()[i:i+2] for i in range(0, len(p), 2)]\n",
    "    \n",
    "    for char in p:\n",
    "        x = stringToMatrix(char)\n",
    "        matrix = np.matmul(x, K) % len(ALPHABET)\n",
    "        c += matrixToString(matrix)\n",
    "    \n",
    "    return c.upper()"
   ]
  },
  {
   "cell_type": "code",
   "execution_count": 176,
   "metadata": {},
   "outputs": [
    {
     "data": {
      "text/plain": [
       "'NHID'"
      ]
     },
     "execution_count": 176,
     "metadata": {},
     "output_type": "execute_result"
    }
   ],
   "source": [
    "encrypt('prim', K)"
   ]
  },
  {
   "cell_type": "markdown",
   "metadata": {},
   "source": [
    "**b) Dekrypter meldingen TOYYSN**"
   ]
  },
  {
   "cell_type": "code",
   "execution_count": 177,
   "metadata": {},
   "outputs": [],
   "source": [
    "def modInverse(a, m) : \n",
    "    a = a % m; \n",
    "    for x in range(1, m) : \n",
    "        if ((a * x) % m == 1) : \n",
    "            return x \n",
    "    return 1"
   ]
  },
  {
   "cell_type": "code",
   "execution_count": 178,
   "metadata": {},
   "outputs": [],
   "source": [
    "ALPHABET = 'ABCDEFGHIJKLMNOPQRSTUVWXYZÆØÅ'\n",
    "\n",
    "def decrypt(c, invK):\n",
    "    p = ''\n",
    "    \n",
    "    # Splits message into blocks of two \n",
    "    c = [c.upper()[i:i+2] for i in range(0, len(c), 2)]\n",
    "    \n",
    "    for char in c:\n",
    "        y = stringToMatrix(char)\n",
    "        inv = modInverse(int(detK), 29)\n",
    "        matrix = np.matmul(y, (invK * inv) % 29) % len(ALPHABET)\n",
    "        p += matrixToString(matrix)\n",
    "    \n",
    "    return p.lower()"
   ]
  },
  {
   "cell_type": "code",
   "execution_count": 179,
   "metadata": {},
   "outputs": [
    {
     "data": {
      "text/plain": [
       "'fredag'"
      ]
     },
     "execution_count": 179,
     "metadata": {},
     "output_type": "execute_result"
    }
   ],
   "source": [
    "decrypt('TOYYSN', invK)"
   ]
  },
  {
   "cell_type": "markdown",
   "metadata": {},
   "source": [
    "**d) For en annen nøkkel med m = 2, så er meldingen EASY kryptert til IØÅY. Finn nøkkelen ut fra bare kjennskap til\n",
    "denne ene meldingen og dens kryptering. (Dette er et eksempel på kjent klartekst-angrep)**"
   ]
  },
  {
   "cell_type": "code",
   "execution_count": 180,
   "metadata": {},
   "outputs": [],
   "source": [
    "def findKey(p, c, N): \n",
    "    for i in range(N):\n",
    "        for j in range(N):\n",
    "            for k in range(N):\n",
    "                for l in range(N):\n",
    "                    K = np.array([[i, j], [k, l]])\n",
    "                    if encrypt(p, K) == c: \n",
    "                        return K\n",
    "    return 1        "
   ]
  },
  {
   "cell_type": "code",
   "execution_count": 181,
   "metadata": {},
   "outputs": [
    {
     "name": "stdout",
     "output_type": "stream",
     "text": [
      "[[ 2 14]\n",
      " [19  5]]\n"
     ]
    }
   ],
   "source": [
    "p = 'easy'\n",
    "c = 'IØÅY'\n",
    "\n",
    "N = 20\n",
    "\n",
    "K = findKey(p, c, N)\n",
    "print(K)"
   ]
  }
 ],
 "metadata": {
  "kernelspec": {
   "display_name": "Python 3",
   "language": "python",
   "name": "python3"
  },
  "language_info": {
   "codemirror_mode": {
    "name": "ipython",
    "version": 3
   },
   "file_extension": ".py",
   "mimetype": "text/x-python",
   "name": "python",
   "nbconvert_exporter": "python",
   "pygments_lexer": "ipython3",
   "version": "3.7.3"
  }
 },
 "nbformat": 4,
 "nbformat_minor": 4
}
