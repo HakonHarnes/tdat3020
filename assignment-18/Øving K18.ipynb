{
 "cells": [
  {
   "cell_type": "markdown",
   "metadata": {},
   "source": [
    "# Øving K18\n",
    "## Oppgave 1 \n",
    "\n",
    "**a) Skriv 72 og 136 på binærform**"
   ]
  },
  {
   "cell_type": "code",
   "execution_count": 306,
   "metadata": {},
   "outputs": [
    {
     "name": "stdout",
     "output_type": "stream",
     "text": [
      "72  = 0b1001000\n",
      "136 = 0b10001000\n"
     ]
    }
   ],
   "source": [
    "numbers = [72, 136]\n",
    "\n",
    "for num in numbers:\n",
    "    print(f'{num:<3} = {bin(num)}')"
   ]
  },
  {
   "cell_type": "markdown",
   "metadata": {},
   "source": [
    "**b) Regn ut a = 11<sup>72</sup> og b = 11<sup>136</sup>, begge mod 10001**"
   ]
  },
  {
   "cell_type": "code",
   "execution_count": 307,
   "metadata": {},
   "outputs": [],
   "source": [
    "def square_and_multiply(a, c, n):\n",
    "    z = 1\n",
    "    \n",
    "    for j in range(c.bit_length() - 1, -1, -1):\n",
    "        z = (z**2) % n\n",
    "        if (c & (1 << j)) >> j:\n",
    "            z = (z*a) % n\n",
    "    \n",
    "    return z"
   ]
  },
  {
   "cell_type": "code",
   "execution_count": 308,
   "metadata": {},
   "outputs": [
    {
     "name": "stdout",
     "output_type": "stream",
     "text": [
      "11^72  mod 10001 = 804\n",
      "11^136 mod 10001 = 9454\n"
     ]
    }
   ],
   "source": [
    "for num in numbers:\n",
    "    print(f'11^{num:<3} mod 10001 = {square_and_multiply(11, num, 10001)}')"
   ]
  },
  {
   "cell_type": "markdown",
   "metadata": {},
   "source": [
    "**c) Regn ut gcd(a, 10001) og gcd(b, 10001)**"
   ]
  },
  {
   "cell_type": "code",
   "execution_count": 309,
   "metadata": {},
   "outputs": [],
   "source": [
    "def gcd(a, b):\n",
    "    if a == 0: return b \n",
    "    return gcd(b%a, a)"
   ]
  },
  {
   "cell_type": "code",
   "execution_count": 310,
   "metadata": {},
   "outputs": [
    {
     "name": "stdout",
     "output_type": "stream",
     "text": [
      "gcd(11^72,  10001) = gcd(804,  10001) = 1\n",
      "gcd(11^136, 10001) = gcd(9454, 10001) = 1\n"
     ]
    }
   ],
   "source": [
    "print(f'gcd(11^72,  10001) = gcd(804,  10001) = {gcd(804, 10001)}')\n",
    "print(f'gcd(11^136, 10001) = gcd(9454, 10001) = {gcd(9454, 10001)}')"
   ]
  },
  {
   "cell_type": "markdown",
   "metadata": {},
   "source": [
    "**d) Regn ut ab (mod 10001)**"
   ]
  },
  {
   "cell_type": "code",
   "execution_count": 311,
   "metadata": {},
   "outputs": [
    {
     "name": "stdout",
     "output_type": "stream",
     "text": [
      "(11^72)*(11^136) (mod 10001) = 804*9454 (mod 10001) = 256\n"
     ]
    }
   ],
   "source": [
    "print(f'(11^72)*(11^136) (mod 10001) = 804*9454 (mod 10001) = {(804 * 9454) % 10001}')"
   ]
  },
  {
   "cell_type": "markdown",
   "metadata": {},
   "source": [
    "## Oppgave 2\n",
    "Sett opp et RSA-kryptosystem med følgende parametre:\n",
    "\n",
    "- p og q skal ha minst 8 bits hver\n",
    "- e skal være liten, men større enn 3\n",
    "\n",
    "**a) Skriv ut (hele) offentlig nøkkel**"
   ]
  },
  {
   "cell_type": "code",
   "execution_count": 312,
   "metadata": {},
   "outputs": [
    {
     "name": "stdout",
     "output_type": "stream",
     "text": [
      "Public key (n, e) = (3990377, 7)\n"
     ]
    }
   ],
   "source": [
    "p = 1087 \n",
    "q = 3671\n",
    "\n",
    "n = p*q \n",
    "e = 7\n",
    "\n",
    "print(f'Public key (n, e) = ({n}, {e})')"
   ]
  },
  {
   "cell_type": "markdown",
   "metadata": {},
   "source": [
    "**b) Finn ved Euklids algoritme d og skriv ut (hele) private nøkkel**"
   ]
  },
  {
   "cell_type": "code",
   "execution_count": 313,
   "metadata": {},
   "outputs": [],
   "source": [
    "def ø(q, p): \n",
    "    return (q-1) * (p-1)"
   ]
  },
  {
   "cell_type": "code",
   "execution_count": 314,
   "metadata": {},
   "outputs": [],
   "source": [
    "def egcd(a, b):\n",
    "    if a == 0: \n",
    "        return (b, 0, 1)\n",
    "    \n",
    "    g, y, x = egcd(b % a, a)\n",
    "    return (g, x - (b // a) * y, y)\n",
    "\n",
    "def modinv(a, m):\n",
    "    g, x, y = egcd(a, m)\n",
    "    if g != 1: return -1 \n",
    "    else: return x % m"
   ]
  },
  {
   "cell_type": "code",
   "execution_count": 315,
   "metadata": {},
   "outputs": [
    {
     "name": "stdout",
     "output_type": "stream",
     "text": [
      "Private key (p, q, d) = (1087, 3671, 1708123)\n"
     ]
    }
   ],
   "source": [
    "d = modinv(e, ø(p, q))\n",
    "\n",
    "print(f'Private key (p, q, d) = ({p}, {q}, {d})')"
   ]
  },
  {
   "cell_type": "markdown",
   "metadata": {},
   "source": [
    "**c) Krypter 42 og dekrypter igjen. Bruk kvadrer-og-multipliser-algoritmen\n",
    "for å regne ut potenser**"
   ]
  },
  {
   "cell_type": "code",
   "execution_count": 316,
   "metadata": {},
   "outputs": [],
   "source": [
    "def encrypt(M, n, e):\n",
    "    return square_and_multiply(M, e, n)"
   ]
  },
  {
   "cell_type": "code",
   "execution_count": 317,
   "metadata": {},
   "outputs": [
    {
     "name": "stdout",
     "output_type": "stream",
     "text": [
      "Message: 42 -> Encrypted: 3282827\n"
     ]
    }
   ],
   "source": [
    "M = 42\n",
    "N = encrypt(M, n, e)\n",
    "\n",
    "print(f'Message: {M} -> Encrypted: {N}')"
   ]
  },
  {
   "cell_type": "code",
   "execution_count": 318,
   "metadata": {},
   "outputs": [],
   "source": [
    "def decrypt(N, p, q, d):\n",
    "    return square_and_multiply(N, d, p*q)"
   ]
  },
  {
   "cell_type": "code",
   "execution_count": 319,
   "metadata": {},
   "outputs": [
    {
     "name": "stdout",
     "output_type": "stream",
     "text": [
      "Encrypted: 3282827 -> Decrypted: 42\n"
     ]
    }
   ],
   "source": [
    "M = decrypt(N, p, q, d)\n",
    "\n",
    "print(f'Encrypted: {N} -> Decrypted: {M}')"
   ]
  },
  {
   "cell_type": "markdown",
   "metadata": {},
   "source": [
    "## Oppgave 3\n",
    "**a) La n = 1829 og B = 5. Kan du finne en primtallsfaktor i n ved Pollard\n",
    "p − 1?**"
   ]
  },
  {
   "cell_type": "code",
   "execution_count": 335,
   "metadata": {},
   "outputs": [],
   "source": [
    "def pollard_p_1(n, B):\n",
    "    a = 2\n",
    "    \n",
    "    for j in range(2, B+1, 1): \n",
    "        a = a**j % n\n",
    "        d = gcd(a-1, n)\n",
    "        \n",
    "        if d > 1 and d < n:\n",
    "            return d \n",
    "    \n",
    "    return -1 "
   ]
  },
  {
   "cell_type": "code",
   "execution_count": 336,
   "metadata": {},
   "outputs": [
    {
     "name": "stdout",
     "output_type": "stream",
     "text": [
      "d = 31\n"
     ]
    }
   ],
   "source": [
    "n = 1829 \n",
    "B = 5\n",
    "\n",
    "d = pollard_p_1(n, B)\n",
    "print(f'd = {d}')"
   ]
  },
  {
   "cell_type": "markdown",
   "metadata": {},
   "source": [
    "**b) La n<sub>1</sub> = 18779 og n<sub>2</sub> = 42583. Ved bruk av Pollard p − 1, finn B’er\n",
    "som er garantert å fungere for hver av disse, uten å utføre testen**\n",
    "\n",
    "Gitt at $n$ er et oddetall, så vil største mulige faktor være gitt ved $\\frac{n-1}{2}$. En $B$ lik største felles faktor vil garantert fungere. Dermed har vi: \n",
    "\n",
    "$$\n",
    "\\begin{aligned}\n",
    "B_1 &= \\frac{n_1-1}{2} = \\frac{18779-1}{2}=9389 \\\\ \n",
    "B_2 &= \\frac{n_2-1}{2} = \\frac{42583-1}{2}=26291 \n",
    "\\end{aligned}\n",
    "$$\n",
    "\n",
    "\n"
   ]
  },
  {
   "cell_type": "markdown",
   "metadata": {},
   "source": [
    "**c) La n = 6319. Forsøk å finne en faktor i dette tallet ved Pollard p − 1.\n",
    "Prøv deg frem med B**"
   ]
  },
  {
   "cell_type": "code",
   "execution_count": 337,
   "metadata": {},
   "outputs": [],
   "source": [
    "def recursive_pollard(n, B):\n",
    "    d = pollard_p_1(n, B)\n",
    "    if d > 0: \n",
    "        return (d, B)\n",
    "    return recursive_pollard(n, B+1)"
   ]
  },
  {
   "cell_type": "code",
   "execution_count": 338,
   "metadata": {},
   "outputs": [
    {
     "name": "stdout",
     "output_type": "stream",
     "text": [
      "d = 71, B = 7\n"
     ]
    }
   ],
   "source": [
    "n = 6319\n",
    "\n",
    "d, B = recursive_pollard(n, 1)\n",
    "print(f'd = {d}, B = {B}')"
   ]
  },
  {
   "cell_type": "markdown",
   "metadata": {},
   "source": [
    "## Oppgave 4\n",
    "Finn en faktor i tallene under med f(x) = x<sup>2</sup> + 1 og startverdi x<sub>1</sub> = 1 i\n",
    "Pollard rho. Hvor mange iterasjoner trenger du?"
   ]
  },
  {
   "cell_type": "code",
   "execution_count": 340,
   "metadata": {},
   "outputs": [],
   "source": [
    "def f(x):\n",
    "    return x**2 + 1"
   ]
  },
  {
   "cell_type": "code",
   "execution_count": 382,
   "metadata": {},
   "outputs": [],
   "source": [
    "def pollard_rho(n, x, i):\n",
    "    x.append(f(x[i-1]) % n)\n",
    "    \n",
    "    if i % 2 == 0:\n",
    "        d = gcd(x[i] - x[int(i/2)], n) \n",
    "        \n",
    "        if d == 1: \n",
    "            return pollard_rho(n, x, i+1)\n",
    "        elif d == n: \n",
    "            return -1 \n",
    "        else:\n",
    "            return d, i\n",
    "    \n",
    "    return pollard_rho(n, x, i+1)"
   ]
  },
  {
   "cell_type": "markdown",
   "metadata": {},
   "source": [
    "**a) 851**"
   ]
  },
  {
   "cell_type": "code",
   "execution_count": 386,
   "metadata": {},
   "outputs": [
    {
     "name": "stdout",
     "output_type": "stream",
     "text": [
      "d = -37 i = 8\n"
     ]
    }
   ],
   "source": [
    "d, i = pollard_rho(851, [1], 1)\n",
    "print(f'd = {d} i = {i}')"
   ]
  },
  {
   "cell_type": "markdown",
   "metadata": {},
   "source": [
    "**b) 1517**"
   ]
  },
  {
   "cell_type": "code",
   "execution_count": 387,
   "metadata": {},
   "outputs": [
    {
     "name": "stdout",
     "output_type": "stream",
     "text": [
      "d = 37 i = 8\n"
     ]
    }
   ],
   "source": [
    "d, i = pollard_rho(1517, [1], 1)\n",
    "print(f'd = {d} i = {i}')"
   ]
  },
  {
   "cell_type": "markdown",
   "metadata": {},
   "source": [
    "**c) 31861**"
   ]
  },
  {
   "cell_type": "code",
   "execution_count": 389,
   "metadata": {},
   "outputs": [
    {
     "name": "stdout",
     "output_type": "stream",
     "text": [
      "d = 151 i = 10\n"
     ]
    }
   ],
   "source": [
    "d, i = pollard_rho(31861, [1], 1)\n",
    "print(f'd = {d} i = {i}')"
   ]
  },
  {
   "cell_type": "markdown",
   "metadata": {},
   "source": [
    "## Oppgave 5 \n",
    "**a) Vis følgende multiplikative egenskap til RSA:**\n",
    "\n",
    "$$e_K(x_1)e_K(x_2) \\text{ mod } n = e_K(x_1x_2) \\text{ mod } n$$"
   ]
  },
  {
   "cell_type": "markdown",
   "metadata": {},
   "source": [
    "Lar offentlig nøkkel er gitt ved $K = (n, e)$. Da har vi: \n",
    "\n",
    "$\n",
    "\\begin{aligned}\n",
    "e_K(x_1)e_K(x_2) \\text{ mod } n\n",
    "&= x_1^e x_2^e \\text{ mod } n\\\\\n",
    "&= (x_1 x_2)^e \\text{ mod } n\\\\\n",
    "&= (x_1 x_2 \\text{ mod } n)^e \\text{ mod } n\\\\\n",
    "&= e_K(x_1x_2 \\text{ mod } n) \\text{ mod } n\\\\\n",
    "&= e_K(x_1x_2) \\text{ mod } n \\\\\n",
    "\\end{aligned}\n",
    "$"
   ]
  },
  {
   "cell_type": "markdown",
   "metadata": {},
   "source": [
    "**b) Vis hvordan RSA er usikker mot valgt chiffertekst-angrep:** \n",
    "\n",
    "Gitt en chiffertekst $y$, beskriv hvordan en angriper kan velge chiffertekst $y' \\neq y$, slik at kjennskap til klarteksten $x′ = d_K(y′)$ lar ham beregne $x = d_K(y)$"
   ]
  },
  {
   "cell_type": "markdown",
   "metadata": {},
   "source": [
    "Chifferteksten $y$ er gitt ved: \n",
    "\n",
    "$$y = x^e \\text{ mod } n$$\n",
    "\n",
    "Chifferteksten $y'$ er gitt ved: \n",
    "\n",
    "$$y'=x'^e \\text{ mod }n$$\n",
    "\n",
    "Kan videre regne ut: \n",
    "\n",
    "$$\n",
    "\\begin{aligned}\n",
    "C &= y' \\cdot y\\\\\n",
    "C &=  x'^e \\cdot x^e \\text{ mod } n \\\\\n",
    "\\end{aligned}\n",
    "$$\n",
    "\n",
    "Regner ut $d_K(C)$:\n",
    "\n",
    "$$C^d = (x'^e \\cdot x^e)^d = (x'^e)^d \\cdot (x^e)^d \\text{ mod } n$$\n",
    "\n",
    "Vet at for en hver plaintext $p$, har vi \n",
    "\n",
    "$$\n",
    "\\begin{aligned}\n",
    "C &\\equiv p^e \\\\\n",
    "p &\\equiv C^d\n",
    "\\end{aligned}\n",
    "$$\n",
    "\n",
    "Dette gir:\n",
    "\n",
    "$$(p^e)^d \\equiv p \\text{ mod } n$$ \n",
    "\n",
    "For $C$ har vi da:  \n",
    "\n",
    "$$C^d = x' \\cdot x \\text{ mod } n$$\n",
    "\n",
    "Dermed kan vi regne ut $x$ ved: \n",
    "\n",
    "$$x = C^d \\cdot x'^{-1} \\text{ mod } n$$\n",
    "\n",
    "NB. Dette fungere kun mot skolebok-RSA. Ordentlig RSA bruker padding."
   ]
  },
  {
   "cell_type": "markdown",
   "metadata": {},
   "source": [
    "## Oppgave 6 \n",
    "I denne oppgaven skal vi se på måte å angripe RSA på, hvis differansen $q−p$ er liten. Anta $q > p$.\n",
    "\n",
    "**a) Forklar hvorfor vi kan skrive q − p = 2d, hvor d er et heltall.**"
   ]
  },
  {
   "cell_type": "markdown",
   "metadata": {},
   "source": [
    "$q$ og $p$ velges som primtall. Primtall er alltid oddetall (for $n>2$), og differansen mellom to oddetall vil være et partall. Dermed vil differansen $q-p$ være et partall, som kan skrives som $2d$ der $d \\in \\mathbb{Z}$"
   ]
  },
  {
   "cell_type": "markdown",
   "metadata": {},
   "source": [
    "**b) Vis at n + d<sup>2</sup> er et kvadrattall**"
   ]
  },
  {
   "cell_type": "markdown",
   "metadata": {},
   "source": [
    "Har $n-p=2d$ og $n=pq$. Kan skrive om $n+d^2$ til:\n",
    "\n",
    "$$\n",
    "n+d^2 = pq + \\sqrt{\\frac{q-p}{2}}\n",
    "$$\n",
    "\n",
    "Som kan faktoriseres videre til: \n",
    "\n",
    "$$\n",
    "\\begin{aligned}\n",
    "&pq + \\frac{q^2-2pq+p^2}{4} \\\\\n",
    "&=\\frac{q^2+2pq+p^2}{4} \\\\\n",
    "&=\\frac{(q+p)^2}{2^2}\\\\\n",
    "&=(\\frac{q+p}{2})^2\\\\\n",
    "\\end{aligned}\n",
    "$$"
   ]
  },
  {
   "cell_type": "markdown",
   "metadata": {},
   "source": [
    "**c) Vis hvordan vi kan faktorisere n hvis n + d<sup>2</sup> er et kvadrattall. Vi antar her at at d<sup>2</sup> er “liten nok”.**"
   ]
  },
  {
   "cell_type": "markdown",
   "metadata": {},
   "source": [
    "Vet at $n + d^2$ er et kvadrattall, altså er $n + d^2 = m^2$. Da er $m$ gitt ved: \n",
    "\n",
    "$$m=\\sqrt{n+d^2}$$\n",
    "\n",
    "Videre kan vi faktorisere $n$: \n",
    "\n",
    "$$\n",
    "\\begin{aligned}\n",
    "n&=m^2-d^2\\\\\n",
    "&=(m+d)(m-d)\\\\\n",
    "&=pq\n",
    "\\end{aligned}\n",
    "$$\n",
    "\n",
    "Altså er: \n",
    "\n",
    "$$\n",
    "\\begin{aligned}\n",
    "p &= m+d\\\\\n",
    "q &= m-d\n",
    "\\end{aligned}\n",
    "$$"
   ]
  },
  {
   "cell_type": "markdown",
   "metadata": {},
   "source": [
    "**d) Faktoriser n = 152416580095517 med denne metoden.**"
   ]
  },
  {
   "cell_type": "markdown",
   "metadata": {},
   "source": [
    "For $d=2$ har vi: \n",
    "\n",
    "$$m = \\sqrt{152416580095517 + 2^2} = 12 345 711$$\n",
    "\n",
    "Da er $p$ og $q$ gitt ved:\n",
    "\n",
    "$$\n",
    "\\begin{aligned}\n",
    "p &= m+d = 12 345 711 + 2 = 12 345 709\\\\\n",
    "q &= m-d = 12 345 711 - 2 = 12 345 713\n",
    "\\end{aligned}\n",
    "$$\n",
    "\n",
    "Sjekker faktoriseringen: \n",
    "\n",
    "$$n = pq = 12 345 709 \\cdot 12 345 713 = 152416580095517$$"
   ]
  }
 ],
 "metadata": {
  "kernelspec": {
   "display_name": "Python 3",
   "language": "python",
   "name": "python3"
  },
  "language_info": {
   "codemirror_mode": {
    "name": "ipython",
    "version": 3
   },
   "file_extension": ".py",
   "mimetype": "text/x-python",
   "name": "python",
   "nbconvert_exporter": "python",
   "pygments_lexer": "ipython3",
   "version": "3.7.3"
  }
 },
 "nbformat": 4,
 "nbformat_minor": 4
}
